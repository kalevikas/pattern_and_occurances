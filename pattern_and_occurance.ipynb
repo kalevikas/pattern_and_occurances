{
 "cells": [
  {
   "cell_type": "markdown",
   "id": "eeef3fec",
   "metadata": {},
   "source": [
    "Write a prgoram to count occurance of int number\n",
    "num = 1255\n",
    "\n",
    "OUTPUT: 1 -> 1 2 -> 1 5 -> 2\n",
    "\n",
    "Don't convert datatype to string.\n",
    "\n"
   ]
  },
  {
   "cell_type": "code",
   "execution_count": 1,
   "id": "ff7b13fa",
   "metadata": {},
   "outputs": [
    {
     "data": {
      "text/plain": [
       "int"
      ]
     },
     "execution_count": 1,
     "metadata": {},
     "output_type": "execute_result"
    }
   ],
   "source": [
    "num=1255\n",
    "type(num)"
   ]
  },
  {
   "cell_type": "code",
   "execution_count": 30,
   "id": "0500a127",
   "metadata": {},
   "outputs": [],
   "source": [
    "num=1255"
   ]
  },
  {
   "cell_type": "code",
   "execution_count": 31,
   "id": "724f5bf0",
   "metadata": {},
   "outputs": [
    {
     "data": {
      "text/plain": [
       "5"
      ]
     },
     "execution_count": 31,
     "metadata": {},
     "output_type": "execute_result"
    }
   ],
   "source": [
    "num%10"
   ]
  },
  {
   "cell_type": "code",
   "execution_count": 32,
   "id": "aeabb187",
   "metadata": {},
   "outputs": [
    {
     "data": {
      "text/plain": [
       "125"
      ]
     },
     "execution_count": 32,
     "metadata": {},
     "output_type": "execute_result"
    }
   ],
   "source": [
    "num//10"
   ]
  },
  {
   "cell_type": "code",
   "execution_count": 22,
   "id": "ebc37237",
   "metadata": {},
   "outputs": [
    {
     "name": "stdout",
     "output_type": "stream",
     "text": [
      "Enter number which you want to check: 5\n",
      "2\n"
     ]
    }
   ],
   "source": [
    "num=1255\n",
    "occurences=int(input(\"Enter number which you want to check: \"))\n",
    "count = 0\n",
    "\n",
    "while (num >0):  # Loop to find digits of Num.\n",
    "    if (num % 10 == occurences):  # Check if digit is occurences.\n",
    "        # For first iteration if we enter occurance as 5 then,\n",
    "        # 1255%10 = 5 == Occurance is True. \n",
    "        \n",
    "        count = count + 1 # For first iteration count=1,2nd itaration count=2 and so on.\n",
    "        \n",
    "    num = num // 10 # For 1st iteration num=1255//10=125,for 2nd iteration num=12,for 3rd iteration num=1 and so on.\n",
    "print(count)"
   ]
  },
  {
   "cell_type": "code",
   "execution_count": 27,
   "id": "81e90284",
   "metadata": {},
   "outputs": [
    {
     "name": "stdout",
     "output_type": "stream",
     "text": [
      "Enter number which you want to check: 2\n",
      "4\n"
     ]
    }
   ],
   "source": [
    "num=1223455888889221\n",
    "occurences=int(input(\"Enter number which you want to check: \"))\n",
    "count = 0\n",
    "\n",
    "while (num >0):\n",
    "    if (num % 10 == occurences):\n",
    "        count = count + 1\n",
    "    num = num // 10\n",
    "print(count)"
   ]
  },
  {
   "cell_type": "code",
   "execution_count": 28,
   "id": "639eea52",
   "metadata": {},
   "outputs": [
    {
     "name": "stdout",
     "output_type": "stream",
     "text": [
      "Enter number which you want to check: 8\n",
      "5\n"
     ]
    }
   ],
   "source": [
    "num=1223455888889221\n",
    "occurences=int(input(\"Enter number which you want to check: \"))\n",
    "count = 0\n",
    "\n",
    "while (num >0):\n",
    "    if (num % 10 == occurences):\n",
    "        count = count + 1\n",
    "    num = num // 10\n",
    "print(count)"
   ]
  },
  {
   "cell_type": "code",
   "execution_count": 29,
   "id": "77bef914",
   "metadata": {},
   "outputs": [
    {
     "name": "stdout",
     "output_type": "stream",
     "text": [
      "Enter number which you want to check: 1\n",
      "2\n"
     ]
    }
   ],
   "source": [
    "num=1223455888889221\n",
    "occurences=int(input(\"Enter number which you want to check: \"))\n",
    "count = 0\n",
    "\n",
    "while (num >0):\n",
    "    if (num % 10 == occurences):\n",
    "        count = count + 1\n",
    "    num = num // 10\n",
    "print(count)"
   ]
  },
  {
   "cell_type": "raw",
   "id": "0e801e13",
   "metadata": {},
   "source": [
    "## write a program to print following output\n",
    "\n",
    "   *\n",
    "  * *\n",
    " * * *\n",
    "    \n",
    "   A\n",
    "  B C\n",
    " D E F"
   ]
  },
  {
   "cell_type": "code",
   "execution_count": 35,
   "id": "d1c2dec6",
   "metadata": {},
   "outputs": [
    {
     "name": "stdout",
     "output_type": "stream",
     "text": [
      "Enter number of rows: 3\n",
      "  * \n",
      " * * \n",
      "* * * \n"
     ]
    }
   ],
   "source": [
    "num=int(input(\"Enter number of rows: \"))  # Enter number of rows you want to print. We want 3 rows.num=3\n",
    "\n",
    "for i in range(0,num): # i in range(0,3); Rows=i=0,1,2 \n",
    "    \n",
    "    for j in range(0,num-i-1): # j in range(0,3-0-1)=j in range(0,2); Columns=j=0,1,2\n",
    "        \n",
    "        print(end=\" \") # print spaces\n",
    "        \n",
    "    for j in range(0,i+1): # j in range(0,0+1=1)\n",
    "        print(\"*\",end=\" \") # print(*) and spaces\n",
    "    print()"
   ]
  },
  {
   "cell_type": "code",
   "execution_count": 6,
   "id": "7663c58c",
   "metadata": {},
   "outputs": [
    {
     "name": "stdout",
     "output_type": "stream",
     "text": [
      "Enter number of rows: 3\n",
      "  AB\n",
      " ABAB\n",
      "ABABAB\n"
     ]
    }
   ],
   "source": [
    "num=int(input(\"Enter number of rows: \"))  # Enter number of rows you want to print. We want 3 rows.num=3\n",
    "\n",
    "for i in range(0,num): # i in range(0,3); Rows=i=0,1,2 \n",
    "    \n",
    "    for j in range(0,num-i-1): # j in range(0,3-0-1)=j in range(0,2); Columns=j=0,1,2\n",
    "        \n",
    "        print(end=\" \") # print spaces\n",
    "        \n",
    "    for j in range(0,i+1): # j in range(0,0+1=1)\n",
    "        print(\"A\", end=\"B\") # print(*) and spaces\n",
    "    print()"
   ]
  },
  {
   "cell_type": "markdown",
   "id": "53ac5996",
   "metadata": {},
   "source": [
    "# Using While loop"
   ]
  },
  {
   "cell_type": "code",
   "execution_count": 8,
   "id": "c8d93997",
   "metadata": {},
   "outputs": [
    {
     "name": "stdout",
     "output_type": "stream",
     "text": [
      "Enter number of rows: 3\n",
      "  * \n",
      " * * \n",
      "* * * \n"
     ]
    }
   ],
   "source": [
    "num=int(input(\"Enter number of rows: \"))  # take value of number of rows from user and store in num variable.num=3\n",
    "row=0                                 # Initially row=0\n",
    "while row<num:           # when row<num if this condition is true then only this loop execute;0<3 is true.\n",
    "    space=num-row-1     # space=3-0-1=space=2; for 1st row we need 2 spaces.\n",
    "    while space>0:        # if space>0;then only execute this while loop. 1st iteration space=2,2nd iteration space=1 \n",
    "        print(end=\" \")       # this is used to print spaces \n",
    "        space=space-1        # space = 2-1 therefore space=1\n",
    "    star=row+1               # For 1st iteration row=0,for 2nd row=1,for 3rd row=2\n",
    "                             # for 1st iteration star=0+1=1,then star=1+1=2,then star=2+1=3.\n",
    "    \n",
    "    while star>0:          # when star>0 the only this loop execute.1st iteration star=3.\n",
    "        print(\"*\",end=\" \") # print * and space\n",
    "        star=star-1        # star=1-1=0;star=0 here again it goes to check while star>0 or not \n",
    "    row=row+1            # row=0+1;row= 1\n",
    "    print()            # This is for new line.\n",
    "        \n",
    "       \n",
    "    "
   ]
  },
  {
   "cell_type": "code",
   "execution_count": 11,
   "id": "6a7118ba",
   "metadata": {},
   "outputs": [
    {
     "name": "stdout",
     "output_type": "stream",
     "text": [
      "Enter number of rows: 5\n",
      "    * \n",
      "   * * \n",
      "  * * * \n",
      " * * * * \n",
      "* * * * * \n"
     ]
    }
   ],
   "source": [
    "num=int(input(\"Enter number of rows: \"))\n",
    "row=0\n",
    "while row<num:\n",
    "    space=num-row-1\n",
    "    while space>0:\n",
    "        print(end=\" \")\n",
    "        space=space-1\n",
    "    star=row+1\n",
    "    while star>0:\n",
    "        print(\"*\",end=\" \")\n",
    "        star=star-1\n",
    "    row=row+1\n",
    "    print()"
   ]
  },
  {
   "cell_type": "code",
   "execution_count": null,
   "id": "de89c448",
   "metadata": {},
   "outputs": [],
   "source": []
  }
 ],
 "metadata": {
  "kernelspec": {
   "display_name": "Python 3",
   "language": "python",
   "name": "python3"
  },
  "language_info": {
   "codemirror_mode": {
    "name": "ipython",
    "version": 3
   },
   "file_extension": ".py",
   "mimetype": "text/x-python",
   "name": "python",
   "nbconvert_exporter": "python",
   "pygments_lexer": "ipython3",
   "version": "3.8.8"
  }
 },
 "nbformat": 4,
 "nbformat_minor": 5
}
